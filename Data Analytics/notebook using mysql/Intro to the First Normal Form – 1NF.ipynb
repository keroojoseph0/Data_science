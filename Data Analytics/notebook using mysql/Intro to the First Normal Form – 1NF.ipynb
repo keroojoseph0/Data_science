{
 "cells": [
  {
   "cell_type": "code",
   "execution_count": 1,
   "id": "b6930382-c6c8-4b93-b8b0-fb1c3af7df3e",
   "metadata": {},
   "outputs": [],
   "source": [
    "# Load and activate the SQL extension to allow us to execute SQL in a Jupyter notebook. \n",
    "# If you get an error here, make sure that mysql and pymysql are installed correctly. \n",
    "\n",
    "%load_ext sql"
   ]
  },
  {
   "cell_type": "code",
   "execution_count": 4,
   "id": "40a08589-1502-4dc5-b3bd-0e8747a5591c",
   "metadata": {},
   "outputs": [],
   "source": [
    "# Load SQLite database\n",
    "%sql sqlite:///dam_levels-a-3987.db"
   ]
  },
  {
   "cell_type": "code",
   "execution_count": 5,
   "id": "a55f3e55-d7cd-4330-a841-7d096cf3b944",
   "metadata": {},
   "outputs": [
    {
     "name": "stdout",
     "output_type": "stream",
     "text": [
      " * sqlite:///dam_levels-a-3987.db\n",
      "   sqlite:///dam_levels.db\n",
      "Done.\n"
     ]
    },
    {
     "data": {
      "text/html": [
       "<table>\n",
       "    <thead>\n",
       "        <tr>\n",
       "            <th>year</th>\n",
       "            <th>dam_name</th>\n",
       "            <th>Assessment_Officer</th>\n",
       "            <th>Officer_Reg</th>\n",
       "            <th>water_level</th>\n",
       "            <th>dam_latitude</th>\n",
       "            <th>dam_longitude</th>\n",
       "        </tr>\n",
       "    </thead>\n",
       "    <tbody>\n",
       "        <tr>\n",
       "            <td>2012</td>\n",
       "            <td>WEMMERSHOEK</td>\n",
       "            <td>P. M. Naidoo</td>\n",
       "            <td>201013</td>\n",
       "            <td>48.2</td>\n",
       "            <td>-33.826246</td>\n",
       "            <td>19.091828</td>\n",
       "        </tr>\n",
       "        <tr>\n",
       "            <td>2012</td>\n",
       "            <td>STEENBRAS LOWER;STEENBRAS UPPER</td>\n",
       "            <td>V. Mokere</td>\n",
       "            <td>201124</td>\n",
       "            <td>20.3;24.2</td>\n",
       "            <td>-34.180527;-34.166702</td>\n",
       "            <td>18.866688;18.90976</td>\n",
       "        </tr>\n",
       "        <tr>\n",
       "            <td>2012</td>\n",
       "            <td>VOËLVLEI</td>\n",
       "            <td>A. T. Sijovu</td>\n",
       "            <td>202256</td>\n",
       "            <td>15</td>\n",
       "            <td>-33.34178</td>\n",
       "            <td>19.04105</td>\n",
       "        </tr>\n",
       "        <tr>\n",
       "            <td>2012</td>\n",
       "            <td>HELY-HUTCHINSON</td>\n",
       "            <td>P. M. Naidoo</td>\n",
       "            <td>201013</td>\n",
       "            <td>14.2</td>\n",
       "            <td>-33.976929</td>\n",
       "            <td>18.409568</td>\n",
       "        </tr>\n",
       "        <tr>\n",
       "            <td>2012</td>\n",
       "            <td>WOODHEAD</td>\n",
       "            <td>A. T. Sijovu</td>\n",
       "            <td>202256</td>\n",
       "            <td>35.3</td>\n",
       "            <td>-33.977341</td>\n",
       "            <td>18.404046</td>\n",
       "        </tr>\n",
       "        <tr>\n",
       "            <td>2013</td>\n",
       "            <td>WEMMERSHOEK</td>\n",
       "            <td>P. M. Naidoo</td>\n",
       "            <td>201013</td>\n",
       "            <td>53.3</td>\n",
       "            <td>-33.826246</td>\n",
       "            <td>19.091828</td>\n",
       "        </tr>\n",
       "        <tr>\n",
       "            <td>2013</td>\n",
       "            <td>STEENBRAS LOWER;STEENBRAS UPPER</td>\n",
       "            <td>V. Mokere</td>\n",
       "            <td>201124</td>\n",
       "            <td>22.4;24.6</td>\n",
       "            <td>-34.180527;-34.166702</td>\n",
       "            <td>18.866688;18.90976</td>\n",
       "        </tr>\n",
       "        <tr>\n",
       "            <td>2013</td>\n",
       "            <td>VOËLVLEI</td>\n",
       "            <td>A. T. Sijovu</td>\n",
       "            <td>202256</td>\n",
       "            <td>16.6</td>\n",
       "            <td>-33.34178</td>\n",
       "            <td>19.04105</td>\n",
       "        </tr>\n",
       "        <tr>\n",
       "            <td>2013</td>\n",
       "            <td>HELY-HUTCHINSON</td>\n",
       "            <td>P. M. Naidoo</td>\n",
       "            <td>201013</td>\n",
       "            <td>15.2</td>\n",
       "            <td>-33.976929</td>\n",
       "            <td>18.409568</td>\n",
       "        </tr>\n",
       "        <tr>\n",
       "            <td>2013</td>\n",
       "            <td>WOODHEAD</td>\n",
       "            <td>A. T. Sijovu</td>\n",
       "            <td>202256</td>\n",
       "            <td>35.9</td>\n",
       "            <td>-33.977341</td>\n",
       "            <td>18.404046</td>\n",
       "        </tr>\n",
       "        <tr>\n",
       "            <td>2015</td>\n",
       "            <td>WEMMERSHOEK</td>\n",
       "            <td>P. M. Naidoo</td>\n",
       "            <td>201013</td>\n",
       "            <td>47.5</td>\n",
       "            <td>-33.826246</td>\n",
       "            <td>19.091828</td>\n",
       "        </tr>\n",
       "        <tr>\n",
       "            <td>2015</td>\n",
       "            <td>STEENBRAS LOWER;STEENBRAS UPPER</td>\n",
       "            <td>V. Mokere</td>\n",
       "            <td>201124</td>\n",
       "            <td>22.7;24.6</td>\n",
       "            <td>-34.180527;-34.166702</td>\n",
       "            <td>18.866688;18.90976</td>\n",
       "        </tr>\n",
       "        <tr>\n",
       "            <td>2015</td>\n",
       "            <td>VOËLVLEI</td>\n",
       "            <td>A. T. Sijovu</td>\n",
       "            <td>202256</td>\n",
       "            <td>11.9</td>\n",
       "            <td>-33.34178</td>\n",
       "            <td>19.04105</td>\n",
       "        </tr>\n",
       "        <tr>\n",
       "            <td>2015</td>\n",
       "            <td>HELY-HUTCHINSON</td>\n",
       "            <td>P. M. Naidoo</td>\n",
       "            <td>201013</td>\n",
       "            <td>15.3</td>\n",
       "            <td>-33.976929</td>\n",
       "            <td>18.409568</td>\n",
       "        </tr>\n",
       "        <tr>\n",
       "            <td>2015</td>\n",
       "            <td>WOODHEAD</td>\n",
       "            <td>A. T. Sijovu</td>\n",
       "            <td>202256</td>\n",
       "            <td>36.1</td>\n",
       "            <td>-33.977341</td>\n",
       "            <td>18.404046</td>\n",
       "        </tr>\n",
       "    </tbody>\n",
       "</table>"
      ],
      "text/plain": [
       "[('2012', 'WEMMERSHOEK', 'P. M. Naidoo', '201013', '48.2', '-33.826246', '19.091828'),\n",
       " ('2012', 'STEENBRAS LOWER;STEENBRAS UPPER', 'V. Mokere', '201124', '20.3;24.2', '-34.180527;-34.166702', '18.866688;18.90976'),\n",
       " ('2012', 'VOËLVLEI', 'A. T. Sijovu', '202256', '15', '-33.34178', '19.04105'),\n",
       " ('2012', 'HELY-HUTCHINSON', 'P. M. Naidoo', '201013', '14.2', '-33.976929', '18.409568'),\n",
       " ('2012', 'WOODHEAD', 'A. T. Sijovu', '202256', '35.3', '-33.977341', '18.404046'),\n",
       " ('2013', 'WEMMERSHOEK', 'P. M. Naidoo', '201013', '53.3', '-33.826246', '19.091828'),\n",
       " ('2013', 'STEENBRAS LOWER;STEENBRAS UPPER', 'V. Mokere', '201124', '22.4;24.6', '-34.180527;-34.166702', '18.866688;18.90976'),\n",
       " ('2013', 'VOËLVLEI', 'A. T. Sijovu', '202256', '16.6', '-33.34178', '19.04105'),\n",
       " ('2013', 'HELY-HUTCHINSON', 'P. M. Naidoo', '201013', '15.2', '-33.976929', '18.409568'),\n",
       " ('2013', 'WOODHEAD', 'A. T. Sijovu', '202256', '35.9', '-33.977341', '18.404046'),\n",
       " ('2015', 'WEMMERSHOEK', 'P. M. Naidoo', '201013', '47.5', '-33.826246', '19.091828'),\n",
       " ('2015', 'STEENBRAS LOWER;STEENBRAS UPPER', 'V. Mokere', '201124', '22.7;24.6', '-34.180527;-34.166702', '18.866688;18.90976'),\n",
       " ('2015', 'VOËLVLEI', 'A. T. Sijovu', '202256', '11.9', '-33.34178', '19.04105'),\n",
       " ('2015', 'HELY-HUTCHINSON', 'P. M. Naidoo', '201013', '15.3', '-33.976929', '18.409568'),\n",
       " ('2015', 'WOODHEAD', 'A. T. Sijovu', '202256', '36.1', '-33.977341', '18.404046')]"
      ]
     },
     "execution_count": 5,
     "metadata": {},
     "output_type": "execute_result"
    }
   ],
   "source": [
    "%%sql\n",
    "\n",
    "SELECT *\n",
    "FROM dam_levels"
   ]
  },
  {
   "cell_type": "code",
   "execution_count": 6,
   "id": "6c7f522c-ad47-4424-9221-bd5f89525839",
   "metadata": {},
   "outputs": [
    {
     "name": "stdout",
     "output_type": "stream",
     "text": [
      " * sqlite:///dam_levels-a-3987.db\n",
      "   sqlite:///dam_levels.db\n",
      "3 rows affected.\n"
     ]
    },
    {
     "data": {
      "text/plain": [
       "[]"
      ]
     },
     "execution_count": 6,
     "metadata": {},
     "output_type": "execute_result"
    }
   ],
   "source": [
    "%%sql\n",
    "\n",
    "DELETE\n",
    "FROM\n",
    "    dam_levels\n",
    "WHERE\n",
    "    Assessment_Officer = \"V. Mokere\";"
   ]
  },
  {
   "cell_type": "code",
   "execution_count": 8,
   "id": "07221640-2308-450c-a5d3-9233f35b23e4",
   "metadata": {},
   "outputs": [
    {
     "name": "stdout",
     "output_type": "stream",
     "text": [
      " * sqlite:///dam_levels-a-3987.db\n",
      "   sqlite:///dam_levels.db\n",
      "6 rows affected.\n"
     ]
    },
    {
     "data": {
      "text/plain": [
       "[]"
      ]
     },
     "execution_count": 8,
     "metadata": {},
     "output_type": "execute_result"
    }
   ],
   "source": [
    "%%sql\n",
    "\n",
    "INSERT INTO dam_levels (year,dam_name,Assessment_Officer,Officer_Reg,water_level,dam_latitude,dam_longitude)\n",
    "VALUES\n",
    "    ( 2012,\"STEENBRAS LOWER\",\"V. Mokere\",201124,20.3,-34.180527,18.866688),\n",
    "    ( 2012,\"STEENBRAS UPPER\",\"V. Mokere\",201124,24.2,-34.166702,18.90976),\n",
    "    ( 2013,\"STEENBRAS LOWER\",\"V. Mokere\",201124,22.4,-34.180527,18.866688),\n",
    "    ( 2013,\"STEENBRAS UPPER\",\"V. Mokere\",201124,24.6,-34.166702,18.90976),\n",
    "    ( 2015,\"STEENBRAS LOWER\",\"V. Mokere\",201124,22.7,-34.180527,18.866688),\n",
    "    ( 2015,\"STEENBRAS UPPER\",\"V. Mokere\",201124,24.6,-34.16670,18.90976);"
   ]
  },
  {
   "cell_type": "code",
   "execution_count": 9,
   "id": "82a537e2-8708-472e-b26f-1a752515dd6d",
   "metadata": {},
   "outputs": [
    {
     "name": "stdout",
     "output_type": "stream",
     "text": [
      " * sqlite:///dam_levels-a-3987.db\n",
      "   sqlite:///dam_levels.db\n",
      "Done.\n"
     ]
    },
    {
     "data": {
      "text/plain": [
       "[]"
      ]
     },
     "execution_count": 9,
     "metadata": {},
     "output_type": "execute_result"
    }
   ],
   "source": [
    "%%sql\n",
    "\n",
    "CREATE TABLE dam_levels_1nf (\n",
    "    AssessmentId INTEGER PRIMARY KEY AUTOINCREMENT,\n",
    "    year INTEGER,\n",
    "    dam_name VARCHAR(100),\n",
    "    Assessment_Officer VARCHAR(100),\n",
    "    Officer_Reg INTEGER,\n",
    "    water_level NUMERIC(10,1),\n",
    "    dam_latitude NUMERIC(3,6),\n",
    "    dam_longitude NUMERIC(3,6)\n",
    ");"
   ]
  },
  {
   "cell_type": "code",
   "execution_count": 10,
   "id": "972b3469-6467-4d72-859a-d516b192aad6",
   "metadata": {},
   "outputs": [
    {
     "name": "stdout",
     "output_type": "stream",
     "text": [
      " * sqlite:///dam_levels-a-3987.db\n",
      "   sqlite:///dam_levels.db\n",
      "24 rows affected.\n"
     ]
    },
    {
     "data": {
      "text/plain": [
       "[]"
      ]
     },
     "execution_count": 10,
     "metadata": {},
     "output_type": "execute_result"
    }
   ],
   "source": [
    "%%sql\n",
    "\n",
    "INSERT INTO\n",
    "    dam_levels_1nf(\n",
    "            year,\n",
    "            dam_name,\n",
    "            Assessment_Officer,\n",
    "            Officer_Reg,\n",
    "            water_level,\n",
    "            dam_latitude,\n",
    "            dam_longitude\n",
    "        )\n",
    "SELECT\n",
    "    year,\n",
    "    dam_name,\n",
    "    Assessment_Officer,\n",
    "    Officer_Reg,\n",
    "    water_level,\n",
    "    dam_latitude,\n",
    "    dam_longitude\n",
    "FROM\n",
    "    dam_levels\n",
    "ORDER BY year;"
   ]
  },
  {
   "cell_type": "code",
   "execution_count": 14,
   "id": "51914523-a958-40fe-9d05-1f26acdb73dc",
   "metadata": {},
   "outputs": [
    {
     "ename": "SyntaxError",
     "evalue": "invalid syntax (1645777817.py, line 1)",
     "output_type": "error",
     "traceback": [
      "  \u001b[36mCell\u001b[39m\u001b[36m \u001b[39m\u001b[32mIn[14]\u001b[39m\u001b[32m, line 1\u001b[39m\n\u001b[31m    \u001b[39m\u001b[31mDROP TABLE IF exists dam_levels;\u001b[39m\n         ^\n\u001b[31mSyntaxError\u001b[39m\u001b[31m:\u001b[39m invalid syntax\n"
     ]
    }
   ],
   "source": []
  },
  {
   "cell_type": "code",
   "execution_count": null,
   "id": "7e27765a-67f1-451e-8ed7-92917dc46930",
   "metadata": {},
   "outputs": [],
   "source": []
  }
 ],
 "metadata": {
  "kernelspec": {
   "display_name": "Python [conda env:SQL_packages]",
   "language": "python",
   "name": "conda-env-SQL_packages-py"
  },
  "language_info": {
   "codemirror_mode": {
    "name": "ipython",
    "version": 3
   },
   "file_extension": ".py",
   "mimetype": "text/x-python",
   "name": "python",
   "nbconvert_exporter": "python",
   "pygments_lexer": "ipython3",
   "version": "3.13.5"
  }
 },
 "nbformat": 4,
 "nbformat_minor": 5
}
